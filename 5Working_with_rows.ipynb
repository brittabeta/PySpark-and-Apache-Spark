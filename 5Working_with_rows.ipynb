{
  "cells": [
    {
      "cell_type": "markdown",
      "metadata": {
        "id": "8qf-TmnsBgXd"
      },
      "source": [
        "# Working with rows\n",
        "\n",
        "Filter rows by condition\n",
        "Df.filter(col(‘column’) >1)\n",
        "\n",
        "Get unique rows in dataframe\n",
        "Df.select(column).distinct().show()\n",
        "\n",
        "Sort rows\n",
        "Df.orderBy(col(‘column’)\n",
        "\n",
        "Append rows of dataframe (dataframes are immutable so must union original dataframe with new one = concatenating two dataframes, both need to have the same number of columns and schema)\n",
        "Df.union(df2)\n"
      ]
    },
    {
      "cell_type": "markdown",
      "metadata": {
        "id": "Dd6t0uFzuR4X"
      },
      "source": [
        "## Download and install Spark"
      ]
    },
    {
      "cell_type": "code",
      "execution_count": 1,
      "metadata": {
        "id": "zToS5PqxBXpK",
        "colab": {
          "base_uri": "https://localhost:8080/"
        },
        "outputId": "1194d484-221b-4a08-e555-7c960b742469"
      },
      "outputs": [
        {
          "output_type": "stream",
          "name": "stdout",
          "text": [
            "sample_data\n"
          ]
        }
      ],
      "source": [
        "!ls"
      ]
    },
    {
      "cell_type": "code",
      "execution_count": null,
      "metadata": {
        "id": "tt7ZS1_wGgjn"
      },
      "outputs": [],
      "source": [
        "#!apt-get update\n",
        "#!apt-get install openjdk-8-jdk-headless -qq > /dev/null\n",
        "#!wget -q http://archive.apache.org/dist/spark/spark-2.3.1/spark-2.3.1-bin-hadoop2.7.tgz\n",
        "#!tar xf spark-2.3.1-bin-hadoop2.7.tgz\n",
        "#!pip install -q findspark"
      ]
    },
    {
      "cell_type": "markdown",
      "metadata": {
        "id": "FEuEkV0BlzAD"
      },
      "source": [
        "## Setup environment"
      ]
    },
    {
      "cell_type": "markdown",
      "source": [
        "[Jan 2023 update]\n",
        "- Google colab recently upgraded to Python 3.8. Unfortunately this breaks spark 2.3.1. \n",
        "- Please use the code below where we install from the pyspark package instead"
      ],
      "metadata": {
        "id": "qu34sKRJvhq_"
      }
    },
    {
      "cell_type": "code",
      "execution_count": 2,
      "metadata": {
        "colab": {
          "base_uri": "https://localhost:8080/"
        },
        "id": "We2yp-o7Hgu9",
        "outputId": "a0a55cab-67b5-4698-befd-2f09a6b17b5f"
      },
      "outputs": [
        {
          "output_type": "stream",
          "name": "stdout",
          "text": [
            "Looking in indexes: https://pypi.org/simple, https://us-python.pkg.dev/colab-wheels/public/simple/\n",
            "Collecting pyspark\n",
            "  Downloading pyspark-3.3.2.tar.gz (281.4 MB)\n",
            "\u001b[2K     \u001b[90m━━━━━━━━━━━━━━━━━━━━━━━━━━━━━━━━━━━━━━━\u001b[0m \u001b[32m281.4/281.4 MB\u001b[0m \u001b[31m4.1 MB/s\u001b[0m eta \u001b[36m0:00:00\u001b[0m\n",
            "\u001b[?25h  Preparing metadata (setup.py) ... \u001b[?25l\u001b[?25hdone\n",
            "Collecting py4j==0.10.9.5\n",
            "  Downloading py4j-0.10.9.5-py2.py3-none-any.whl (199 kB)\n",
            "\u001b[2K     \u001b[90m━━━━━━━━━━━━━━━━━━━━━━━━━━━━━━━━━━━━━━━\u001b[0m \u001b[32m199.7/199.7 KB\u001b[0m \u001b[31m9.3 MB/s\u001b[0m eta \u001b[36m0:00:00\u001b[0m\n",
            "\u001b[?25hBuilding wheels for collected packages: pyspark\n",
            "  Building wheel for pyspark (setup.py) ... \u001b[?25l\u001b[?25hdone\n",
            "  Created wheel for pyspark: filename=pyspark-3.3.2-py2.py3-none-any.whl size=281824028 sha256=c6418837417ce8bfa85a124437e29ef262b048e5140303c8962460b052ec794f\n",
            "  Stored in directory: /root/.cache/pip/wheels/6c/e3/9b/0525ce8a69478916513509d43693511463c6468db0de237c86\n",
            "Successfully built pyspark\n",
            "Installing collected packages: py4j, pyspark\n",
            "  Attempting uninstall: py4j\n",
            "    Found existing installation: py4j 0.10.9.7\n",
            "    Uninstalling py4j-0.10.9.7:\n",
            "      Successfully uninstalled py4j-0.10.9.7\n",
            "Successfully installed py4j-0.10.9.5 pyspark-3.3.2\n"
          ]
        }
      ],
      "source": [
        "!pip install pyspark"
      ]
    },
    {
      "cell_type": "code",
      "execution_count": 3,
      "metadata": {
        "colab": {
          "base_uri": "https://localhost:8080/",
          "height": 219
        },
        "id": "QdrFO3yrwptm",
        "outputId": "e17f5f2e-8659-472e-bec6-30bf6dd0668a"
      },
      "outputs": [
        {
          "output_type": "execute_result",
          "data": {
            "text/plain": [
              "<pyspark.sql.session.SparkSession at 0x7fc3dc055e50>"
            ],
            "text/html": [
              "\n",
              "            <div>\n",
              "                <p><b>SparkSession - in-memory</b></p>\n",
              "                \n",
              "        <div>\n",
              "            <p><b>SparkContext</b></p>\n",
              "\n",
              "            <p><a href=\"http://328389677b21:4040\">Spark UI</a></p>\n",
              "\n",
              "            <dl>\n",
              "              <dt>Version</dt>\n",
              "                <dd><code>v3.3.2</code></dd>\n",
              "              <dt>Master</dt>\n",
              "                <dd><code>local[*]</code></dd>\n",
              "              <dt>AppName</dt>\n",
              "                <dd><code>pyspark-shell</code></dd>\n",
              "            </dl>\n",
              "        </div>\n",
              "        \n",
              "            </div>\n",
              "        "
            ]
          },
          "metadata": {},
          "execution_count": 3
        }
      ],
      "source": [
        "from pyspark.sql import SparkSession\n",
        "spark = SparkSession.builder.master(\"local[*]\").getOrCreate()\n",
        "spark"
      ]
    },
    {
      "cell_type": "code",
      "execution_count": null,
      "metadata": {
        "id": "sdOOq4twHN1K"
      },
      "outputs": [],
      "source": [
        "#import os\n",
        "#os.environ[\"JAVA_HOME\"] = \"/usr/lib/jvm/java-8-openjdk-amd64\"\n",
        "#os.environ[\"SPARK_HOME\"] = \"/content/spark-2.3.1-bin-hadoop2.7\"\n",
        "\n",
        "#import findspark\n",
        "#findspark.init()\n",
        "#from pyspark import SparkContext\n",
        "#sc = SparkContext.getOrCreate()\n",
        "\n",
        "#import pyspark\n",
        "#from pyspark.sql import SparkSession\n",
        "#spark = SparkSession.builder.getOrCreate() \n",
        "#spark"
      ]
    },
    {
      "cell_type": "markdown",
      "metadata": {
        "id": "0ysUlfFrN5OD"
      },
      "source": [
        "## Downloading and preprocessing Chicago's Reported Crime Data"
      ]
    },
    {
      "cell_type": "code",
      "execution_count": 4,
      "metadata": {
        "id": "FDtw5Hy3N-pV",
        "colab": {
          "base_uri": "https://localhost:8080/"
        },
        "outputId": "6c2c0508-a1ea-46f1-b62c-b646cb7ff1d9"
      },
      "outputs": [
        {
          "output_type": "stream",
          "name": "stdout",
          "text": [
            "--2023-03-28 16:52:26--  https://data.cityofchicago.org/api/views/ijzp-q8t2/rows.csv?accessType=DOWNLOAD\n",
            "Resolving data.cityofchicago.org (data.cityofchicago.org)... 52.206.140.199, 52.206.140.205, 52.206.68.26\n",
            "Connecting to data.cityofchicago.org (data.cityofchicago.org)|52.206.140.199|:443... connected.\n",
            "HTTP request sent, awaiting response... 200 OK\n",
            "Length: unspecified [text/csv]\n",
            "Saving to: ‘rows.csv?accessType=DOWNLOAD’\n",
            "\n",
            "rows.csv?accessType     [        <=>         ]   1.71G  2.83MB/s    in 9m 27s  \n",
            "\n",
            "2023-03-28 17:01:54 (3.08 MB/s) - ‘rows.csv?accessType=DOWNLOAD’ saved [1832414791]\n",
            "\n",
            "total 1789476\n",
            "-rw-r--r-- 1 root root 1832414791 Mar 28 11:12 'rows.csv?accessType=DOWNLOAD'\n",
            "drwxr-xr-x 1 root root       4096 Mar 27 13:41  sample_data\n"
          ]
        }
      ],
      "source": [
        "!wget https://data.cityofchicago.org/api/views/ijzp-q8t2/rows.csv?accessType=DOWNLOAD\n",
        "!ls -l"
      ]
    },
    {
      "cell_type": "code",
      "execution_count": 5,
      "metadata": {
        "id": "v4P5mMONYyVd",
        "colab": {
          "base_uri": "https://localhost:8080/"
        },
        "outputId": "c67c1e43-ad2f-404b-8896-db47f08b32e9"
      },
      "outputs": [
        {
          "output_type": "stream",
          "name": "stdout",
          "text": [
            "total 1789476\n",
            "-rw-r--r-- 1 root root 1832414791 Mar 28 11:12 reported-crimes.csv\n",
            "drwxr-xr-x 1 root root       4096 Mar 27 13:41 sample_data\n"
          ]
        }
      ],
      "source": [
        "!mv rows.csv\\?accessType\\=DOWNLOAD reported-crimes.csv\n",
        "!ls -l"
      ]
    },
    {
      "cell_type": "code",
      "execution_count": 6,
      "metadata": {
        "id": "9-1cK0nPNS95",
        "colab": {
          "base_uri": "https://localhost:8080/"
        },
        "outputId": "c5fa053c-300c-48e0-eb6b-d7e9644f41bc"
      },
      "outputs": [
        {
          "output_type": "stream",
          "name": "stdout",
          "text": [
            "+--------+-----------+-------------------+--------------------+----+------------+--------------------+--------------------+------+--------+----+--------+----+--------------+--------+------------+------------+----+--------------------+------------+-------------+--------------------+\n",
            "|      ID|Case Number|               Date|               Block|IUCR|Primary Type|         Description|Location Description|Arrest|Domestic|Beat|District|Ward|Community Area|FBI Code|X Coordinate|Y Coordinate|Year|          Updated On|    Latitude|    Longitude|            Location|\n",
            "+--------+-----------+-------------------+--------------------+----+------------+--------------------+--------------------+------+--------+----+--------+----+--------------+--------+------------+------------+----+--------------------+------------+-------------+--------------------+\n",
            "|10224738|   HY411648|2015-09-05 13:30:00|     043XX S WOOD ST|0486|     BATTERY|DOMESTIC BATTERY ...|           RESIDENCE| false|    true|0924|     009|  12|            61|     08B|     1165074|     1875917|2015|02/10/2018 03:50:...|41.815117282|-87.669999562|(41.815117282, -8...|\n",
            "|10224739|   HY411615|2015-09-04 11:30:00| 008XX N CENTRAL AVE|0870|       THEFT|      POCKET-PICKING|             CTA BUS| false|   false|1511|     015|  29|            25|      06|     1138875|     1904869|2015|02/10/2018 03:50:...|41.895080471|-87.765400451|(41.895080471, -8...|\n",
            "|11646166|   JC213529|2018-09-01 00:01:00|082XX S INGLESIDE...|0810|       THEFT|           OVER $500|           RESIDENCE| false|    true|0631|     006|   8|            44|      06|        null|        null|2018|04/06/2019 04:04:...|        null|         null|                null|\n",
            "|10224740|   HY411595|2015-09-05 12:45:00|   035XX W BARRY AVE|2023|   NARCOTICS|POSS: HEROIN(BRN/...|            SIDEWALK|  true|   false|1412|     014|  35|            21|      18|     1152037|     1920384|2015|02/10/2018 03:50:...|41.937405765|-87.716649687|(41.937405765, -8...|\n",
            "|10224741|   HY411610|2015-09-05 13:00:00| 0000X N LARAMIE AVE|0560|     ASSAULT|              SIMPLE|           APARTMENT| false|    true|1522|     015|  28|            25|     08A|     1141706|     1900086|2015|02/10/2018 03:50:...|41.881903443|-87.755121152|(41.881903443, -8...|\n",
            "+--------+-----------+-------------------+--------------------+----+------------+--------------------+--------------------+------+--------+----+--------+----+--------------+--------+------------+------------+----+--------------------+------------+-------------+--------------------+\n",
            "only showing top 5 rows\n",
            "\n"
          ]
        }
      ],
      "source": [
        "from pyspark.sql.functions import to_timestamp,col,lit\n",
        "rc = spark.read.csv('reported-crimes.csv',header=True).withColumn('Date',to_timestamp(col('Date'),'MM/dd/yyyy hh:mm:ss a')).filter(col('Date') <= lit('2018-11-11'))\n",
        "rc.show(5)"
      ]
    },
    {
      "cell_type": "markdown",
      "metadata": {
        "id": "mI_zYOVpf2yK"
      },
      "source": [
        "## Working with rows"
      ]
    },
    {
      "cell_type": "markdown",
      "metadata": {
        "id": "hgnCWSfNZsLV"
      },
      "source": [
        "**Add the reported crimes for an additional day, 12-Nov-2018, to our dataset.**"
      ]
    },
    {
      "cell_type": "code",
      "execution_count": 16,
      "metadata": {
        "id": "808f1HzwgDyh"
      },
      "outputs": [],
      "source": [
        "# remember filter\n",
        "## <= lit('2018-11-11'))\n",
        "## add the addition next day to dataframe\n",
        "# one day - change <= to ==\n",
        "one_day = spark.read.csv('reported-crimes.csv',header=True).withColumn('Date',to_timestamp(col('Date'),'MM/dd/yyyy hh:mm:ss a')).filter(col('Date') == lit('2018-11-12'))"
      ]
    },
    {
      "cell_type": "code",
      "execution_count": 12,
      "metadata": {
        "id": "PeeOFy5cgDRq",
        "colab": {
          "base_uri": "https://localhost:8080/"
        },
        "outputId": "a5a44085-c972-429c-e30f-f22551e04668"
      },
      "outputs": [
        {
          "output_type": "execute_result",
          "data": {
            "text/plain": [
              "3"
            ]
          },
          "metadata": {},
          "execution_count": 12
        }
      ],
      "source": [
        "# number of reported crimes for the 12th of november\n",
        "one_day.count()"
      ]
    },
    {
      "cell_type": "code",
      "execution_count": 17,
      "metadata": {
        "id": "qLS_NEpEgDBJ",
        "colab": {
          "base_uri": "https://localhost:8080/"
        },
        "outputId": "543d5fa1-0756-4e3f-9c9d-9617aedd6893"
      },
      "outputs": [
        {
          "output_type": "stream",
          "name": "stdout",
          "text": [
            "+--------+-----------+-------------------+-------------------+----+------------------+--------------------+--------------------+------+--------+----+--------+----+--------------+--------+------------+------------+----+--------------------+------------+-------------+--------------------+\n",
            "|      ID|Case Number|               Date|              Block|IUCR|      Primary Type|         Description|Location Description|Arrest|Domestic|Beat|District|Ward|Community Area|FBI Code|X Coordinate|Y Coordinate|Year|          Updated On|    Latitude|    Longitude|            Location|\n",
            "+--------+-----------+-------------------+-------------------+----+------------------+--------------------+--------------------+------+--------+----+--------+----+--------------+--------+------------+------------+----+--------------------+------------+-------------+--------------------+\n",
            "|11505149|   JB513151|2018-11-12 00:00:00| 003XX S WHIPPLE ST|0810|             THEFT|           OVER $500|              STREET| false|   false|1124|     011|  28|            27|      06|     1156099|     1898319|2018|11/19/2018 04:22:...|41.876776356|-87.702317641|(41.876776356, -8...|\n",
            "|11516594|   JB528186|2018-11-12 00:00:00|049XX S PRAIRIE AVE|2826|     OTHER OFFENSE|HARASSMENT BY ELE...|               OTHER| false|   false|0224|     002|   3|            38|      26|     1178879|     1872259|2018|11/28/2018 04:14:...|41.804775828|-87.619472488|(41.804775828, -8...|\n",
            "|11540042|   JB559262|2018-11-12 00:00:00|010XX N DEARBORN ST|1140|DECEPTIVE PRACTICE|        EMBEZZLEMENT|   CONVENIENCE STORE|  true|   false|1824|     018|   2|             8|      12|     1175747|     1907348|2018|03/16/2019 04:01:...|41.901133376|-87.629904979|(41.901133376, -8...|\n",
            "|11505581|   JB513620|2018-11-11 00:00:00| 049XX S KEELER AVE|0486|           BATTERY|DOMESTIC BATTERY ...|           RESIDENCE| false|    true|0815|     008|  14|            57|     08B|     1149195|     1871583|2018|11/18/2018 04:11:...|41.803545745|-87.728358627|(41.803545745, -8...|\n",
            "|11507744|   JB516509|2018-11-11 00:00:00|  033XX S DAMEN AVE|0820|             THEFT|      $500 AND UNDER|           RESIDENCE| false|   false|0912|     009|  12|            59|      06|     1163564|     1882504|2018|11/18/2018 04:11:...|41.833224596|-87.675353441|(41.833224596, -8...|\n",
            "+--------+-----------+-------------------+-------------------+----+------------------+--------------------+--------------------+------+--------+----+--------+----+--------------+--------+------------+------------+----+--------------------+------------+-------------+--------------------+\n",
            "only showing top 5 rows\n",
            "\n"
          ]
        }
      ],
      "source": [
        "# there were 3 crimes on 11-12-18\n",
        "## add these rows to dataframe\n",
        "rc.union(one_day).orderBy('Date', ascending = False).show(5)"
      ]
    },
    {
      "cell_type": "code",
      "execution_count": null,
      "metadata": {
        "id": "E7NuMVpygC2h"
      },
      "outputs": [],
      "source": []
    },
    {
      "cell_type": "code",
      "execution_count": null,
      "metadata": {
        "id": "ugRDxNwNgHNa"
      },
      "outputs": [],
      "source": []
    },
    {
      "cell_type": "code",
      "execution_count": null,
      "metadata": {
        "id": "T6w6-fN9gG_7"
      },
      "outputs": [],
      "source": []
    },
    {
      "cell_type": "markdown",
      "metadata": {
        "id": "WvOfJmzhf0kG"
      },
      "source": [
        "**What are the top 10 number of reported crimes by Primary type, in descending order of occurence?**"
      ]
    },
    {
      "cell_type": "code",
      "execution_count": 18,
      "metadata": {
        "id": "JkUF4yJFgG25",
        "colab": {
          "base_uri": "https://localhost:8080/"
        },
        "outputId": "14ba4949-3f44-4f1c-bd94-9607a7900d4e"
      },
      "outputs": [
        {
          "output_type": "stream",
          "name": "stdout",
          "text": [
            "+--------------------+------+\n",
            "|        Primary Type| count|\n",
            "+--------------------+------+\n",
            "|OFFENSE INVOLVING...| 46642|\n",
            "|CRIMINAL SEXUAL A...|  1230|\n",
            "|            STALKING|  3388|\n",
            "|PUBLIC PEACE VIOL...| 47785|\n",
            "|           OBSCENITY|   587|\n",
            "|NON-CRIMINAL (SUB...|     9|\n",
            "|               ARSON| 11157|\n",
            "|            GAMBLING| 14422|\n",
            "|   CRIMINAL TRESPASS|193371|\n",
            "|             ASSAULT|418521|\n",
            "+--------------------+------+\n",
            "only showing top 10 rows\n",
            "\n"
          ]
        }
      ],
      "source": [
        "rc.groupBy(\"Primary Type\").count().show(10)"
      ]
    },
    {
      "cell_type": "markdown",
      "source": [
        "at the end of groupBy must have aggregation - so count"
      ],
      "metadata": {
        "id": "L7gBx9kMgpK4"
      }
    },
    {
      "cell_type": "code",
      "execution_count": 22,
      "metadata": {
        "id": "o3IB6VxLgGYi",
        "colab": {
          "base_uri": "https://localhost:8080/"
        },
        "outputId": "a7e5687f-1ef8-4570-a163-f1c2dd3f3af7"
      },
      "outputs": [
        {
          "output_type": "stream",
          "name": "stdout",
          "text": [
            "+-------------------+-------+\n",
            "|       Primary Type|  count|\n",
            "+-------------------+-------+\n",
            "|              THEFT|1418507|\n",
            "|            BATTERY|1232278|\n",
            "|    CRIMINAL DAMAGE| 771516|\n",
            "|          NARCOTICS| 711766|\n",
            "|      OTHER OFFENSE| 418903|\n",
            "|            ASSAULT| 418521|\n",
            "|           BURGLARY| 388040|\n",
            "|MOTOR VEHICLE THEFT| 314133|\n",
            "| DECEPTIVE PRACTICE| 267025|\n",
            "|            ROBBERY| 255601|\n",
            "+-------------------+-------+\n",
            "only showing top 10 rows\n",
            "\n"
          ]
        }
      ],
      "source": [
        "rc.groupBy(\"Primary Type\").count().orderBy(\"count\", ascending=False).show(10)"
      ]
    },
    {
      "cell_type": "code",
      "execution_count": null,
      "metadata": {
        "id": "_OhKvPoItNtK"
      },
      "outputs": [],
      "source": []
    },
    {
      "cell_type": "code",
      "execution_count": null,
      "metadata": {
        "id": "dSA_eLl6uH3p"
      },
      "outputs": [],
      "source": []
    },
    {
      "cell_type": "code",
      "execution_count": null,
      "metadata": {
        "id": "LsweBKZNuHzA"
      },
      "outputs": [],
      "source": []
    },
    {
      "cell_type": "code",
      "execution_count": null,
      "metadata": {
        "id": "3wr2Q9djtXBV"
      },
      "outputs": [],
      "source": []
    },
    {
      "cell_type": "code",
      "execution_count": null,
      "metadata": {
        "id": "3HBJev2Ctdbo"
      },
      "outputs": [],
      "source": []
    }
  ],
  "metadata": {
    "colab": {
      "provenance": []
    },
    "kernelspec": {
      "display_name": "Python 3",
      "language": "python",
      "name": "python3"
    },
    "language_info": {
      "codemirror_mode": {
        "name": "ipython",
        "version": 3
      },
      "file_extension": ".py",
      "mimetype": "text/x-python",
      "name": "python",
      "nbconvert_exporter": "python",
      "pygments_lexer": "ipython3",
      "version": "3.6.5"
    }
  },
  "nbformat": 4,
  "nbformat_minor": 0
}